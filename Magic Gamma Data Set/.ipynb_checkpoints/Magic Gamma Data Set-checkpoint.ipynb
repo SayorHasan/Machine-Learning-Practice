{
 "cells": [
  {
   "cell_type": "code",
   "execution_count": 2,
   "id": "ad7e7dcf-415e-4cf2-bea5-faa0e787614f",
   "metadata": {},
   "outputs": [],
   "source": [
    "import numpy as np\n",
    "import pandas as pd\n",
    "import matplotlib.pyplot as plt\n",
    "from sklearn.preprocessing import StandardScaler\n",
    "from imblearn.over_sampling import RandomOverSampler"
   ]
  },
  {
   "cell_type": "code",
   "execution_count": 3,
   "id": "960e5f34-ce8e-4b01-8879-87f3063c503d",
   "metadata": {},
   "outputs": [
    {
     "data": {
      "text/html": [
       "<div>\n",
       "<style scoped>\n",
       "    .dataframe tbody tr th:only-of-type {\n",
       "        vertical-align: middle;\n",
       "    }\n",
       "\n",
       "    .dataframe tbody tr th {\n",
       "        vertical-align: top;\n",
       "    }\n",
       "\n",
       "    .dataframe thead th {\n",
       "        text-align: right;\n",
       "    }\n",
       "</style>\n",
       "<table border=\"1\" class=\"dataframe\">\n",
       "  <thead>\n",
       "    <tr style=\"text-align: right;\">\n",
       "      <th></th>\n",
       "      <th>fLength</th>\n",
       "      <th>fWidth</th>\n",
       "      <th>fSize</th>\n",
       "      <th>fConc</th>\n",
       "      <th>fConc1</th>\n",
       "      <th>fAsym</th>\n",
       "      <th>fM3Long</th>\n",
       "      <th>fM3Trans</th>\n",
       "      <th>fAlpha</th>\n",
       "      <th>fDist</th>\n",
       "      <th>class</th>\n",
       "    </tr>\n",
       "  </thead>\n",
       "  <tbody>\n",
       "    <tr>\n",
       "      <th>0</th>\n",
       "      <td>28.7967</td>\n",
       "      <td>16.0021</td>\n",
       "      <td>2.6449</td>\n",
       "      <td>0.3918</td>\n",
       "      <td>0.1982</td>\n",
       "      <td>27.7004</td>\n",
       "      <td>22.0110</td>\n",
       "      <td>-8.2027</td>\n",
       "      <td>40.0920</td>\n",
       "      <td>81.8828</td>\n",
       "      <td>g</td>\n",
       "    </tr>\n",
       "    <tr>\n",
       "      <th>1</th>\n",
       "      <td>31.6036</td>\n",
       "      <td>11.7235</td>\n",
       "      <td>2.5185</td>\n",
       "      <td>0.5303</td>\n",
       "      <td>0.3773</td>\n",
       "      <td>26.2722</td>\n",
       "      <td>23.8238</td>\n",
       "      <td>-9.9574</td>\n",
       "      <td>6.3609</td>\n",
       "      <td>205.2610</td>\n",
       "      <td>g</td>\n",
       "    </tr>\n",
       "    <tr>\n",
       "      <th>2</th>\n",
       "      <td>162.0520</td>\n",
       "      <td>136.0310</td>\n",
       "      <td>4.0612</td>\n",
       "      <td>0.0374</td>\n",
       "      <td>0.0187</td>\n",
       "      <td>116.7410</td>\n",
       "      <td>-64.8580</td>\n",
       "      <td>-45.2160</td>\n",
       "      <td>76.9600</td>\n",
       "      <td>256.7880</td>\n",
       "      <td>g</td>\n",
       "    </tr>\n",
       "    <tr>\n",
       "      <th>3</th>\n",
       "      <td>23.8172</td>\n",
       "      <td>9.5728</td>\n",
       "      <td>2.3385</td>\n",
       "      <td>0.6147</td>\n",
       "      <td>0.3922</td>\n",
       "      <td>27.2107</td>\n",
       "      <td>-6.4633</td>\n",
       "      <td>-7.1513</td>\n",
       "      <td>10.4490</td>\n",
       "      <td>116.7370</td>\n",
       "      <td>g</td>\n",
       "    </tr>\n",
       "    <tr>\n",
       "      <th>4</th>\n",
       "      <td>75.1362</td>\n",
       "      <td>30.9205</td>\n",
       "      <td>3.1611</td>\n",
       "      <td>0.3168</td>\n",
       "      <td>0.1832</td>\n",
       "      <td>-5.5277</td>\n",
       "      <td>28.5525</td>\n",
       "      <td>21.8393</td>\n",
       "      <td>4.6480</td>\n",
       "      <td>356.4620</td>\n",
       "      <td>g</td>\n",
       "    </tr>\n",
       "  </tbody>\n",
       "</table>\n",
       "</div>"
      ],
      "text/plain": [
       "    fLength    fWidth   fSize   fConc  fConc1     fAsym  fM3Long  fM3Trans  \\\n",
       "0   28.7967   16.0021  2.6449  0.3918  0.1982   27.7004  22.0110   -8.2027   \n",
       "1   31.6036   11.7235  2.5185  0.5303  0.3773   26.2722  23.8238   -9.9574   \n",
       "2  162.0520  136.0310  4.0612  0.0374  0.0187  116.7410 -64.8580  -45.2160   \n",
       "3   23.8172    9.5728  2.3385  0.6147  0.3922   27.2107  -6.4633   -7.1513   \n",
       "4   75.1362   30.9205  3.1611  0.3168  0.1832   -5.5277  28.5525   21.8393   \n",
       "\n",
       "    fAlpha     fDist class  \n",
       "0  40.0920   81.8828     g  \n",
       "1   6.3609  205.2610     g  \n",
       "2  76.9600  256.7880     g  \n",
       "3  10.4490  116.7370     g  \n",
       "4   4.6480  356.4620     g  "
      ]
     },
     "execution_count": 3,
     "metadata": {},
     "output_type": "execute_result"
    }
   ],
   "source": [
    "cols = [\"fLength\", \"fWidth\", \"fSize\", \"fConc\", \"fConc1\", \"fAsym\", \"fM3Long\", \"fM3Trans\", \"fAlpha\", \"fDist\", \"class\"]\n",
    "df = pd.read_csv(\"magic04.data\",names = cols)\n",
    "df.head()"
   ]
  },
  {
   "cell_type": "code",
   "execution_count": 4,
   "id": "a3cd47f4-b20f-41f4-a144-8904bcf16898",
   "metadata": {},
   "outputs": [
    {
     "data": {
      "text/html": [
       "<div>\n",
       "<style scoped>\n",
       "    .dataframe tbody tr th:only-of-type {\n",
       "        vertical-align: middle;\n",
       "    }\n",
       "\n",
       "    .dataframe tbody tr th {\n",
       "        vertical-align: top;\n",
       "    }\n",
       "\n",
       "    .dataframe thead th {\n",
       "        text-align: right;\n",
       "    }\n",
       "</style>\n",
       "<table border=\"1\" class=\"dataframe\">\n",
       "  <thead>\n",
       "    <tr style=\"text-align: right;\">\n",
       "      <th></th>\n",
       "      <th>fLength</th>\n",
       "      <th>fWidth</th>\n",
       "      <th>fSize</th>\n",
       "      <th>fConc</th>\n",
       "      <th>fConc1</th>\n",
       "      <th>fAsym</th>\n",
       "      <th>fM3Long</th>\n",
       "      <th>fM3Trans</th>\n",
       "      <th>fAlpha</th>\n",
       "      <th>fDist</th>\n",
       "      <th>class</th>\n",
       "    </tr>\n",
       "  </thead>\n",
       "  <tbody>\n",
       "    <tr>\n",
       "      <th>0</th>\n",
       "      <td>28.7967</td>\n",
       "      <td>16.0021</td>\n",
       "      <td>2.6449</td>\n",
       "      <td>0.3918</td>\n",
       "      <td>0.1982</td>\n",
       "      <td>27.7004</td>\n",
       "      <td>22.0110</td>\n",
       "      <td>-8.2027</td>\n",
       "      <td>40.0920</td>\n",
       "      <td>81.8828</td>\n",
       "      <td>1</td>\n",
       "    </tr>\n",
       "    <tr>\n",
       "      <th>1</th>\n",
       "      <td>31.6036</td>\n",
       "      <td>11.7235</td>\n",
       "      <td>2.5185</td>\n",
       "      <td>0.5303</td>\n",
       "      <td>0.3773</td>\n",
       "      <td>26.2722</td>\n",
       "      <td>23.8238</td>\n",
       "      <td>-9.9574</td>\n",
       "      <td>6.3609</td>\n",
       "      <td>205.2610</td>\n",
       "      <td>1</td>\n",
       "    </tr>\n",
       "    <tr>\n",
       "      <th>2</th>\n",
       "      <td>162.0520</td>\n",
       "      <td>136.0310</td>\n",
       "      <td>4.0612</td>\n",
       "      <td>0.0374</td>\n",
       "      <td>0.0187</td>\n",
       "      <td>116.7410</td>\n",
       "      <td>-64.8580</td>\n",
       "      <td>-45.2160</td>\n",
       "      <td>76.9600</td>\n",
       "      <td>256.7880</td>\n",
       "      <td>1</td>\n",
       "    </tr>\n",
       "    <tr>\n",
       "      <th>3</th>\n",
       "      <td>23.8172</td>\n",
       "      <td>9.5728</td>\n",
       "      <td>2.3385</td>\n",
       "      <td>0.6147</td>\n",
       "      <td>0.3922</td>\n",
       "      <td>27.2107</td>\n",
       "      <td>-6.4633</td>\n",
       "      <td>-7.1513</td>\n",
       "      <td>10.4490</td>\n",
       "      <td>116.7370</td>\n",
       "      <td>1</td>\n",
       "    </tr>\n",
       "    <tr>\n",
       "      <th>4</th>\n",
       "      <td>75.1362</td>\n",
       "      <td>30.9205</td>\n",
       "      <td>3.1611</td>\n",
       "      <td>0.3168</td>\n",
       "      <td>0.1832</td>\n",
       "      <td>-5.5277</td>\n",
       "      <td>28.5525</td>\n",
       "      <td>21.8393</td>\n",
       "      <td>4.6480</td>\n",
       "      <td>356.4620</td>\n",
       "      <td>1</td>\n",
       "    </tr>\n",
       "  </tbody>\n",
       "</table>\n",
       "</div>"
      ],
      "text/plain": [
       "    fLength    fWidth   fSize   fConc  fConc1     fAsym  fM3Long  fM3Trans  \\\n",
       "0   28.7967   16.0021  2.6449  0.3918  0.1982   27.7004  22.0110   -8.2027   \n",
       "1   31.6036   11.7235  2.5185  0.5303  0.3773   26.2722  23.8238   -9.9574   \n",
       "2  162.0520  136.0310  4.0612  0.0374  0.0187  116.7410 -64.8580  -45.2160   \n",
       "3   23.8172    9.5728  2.3385  0.6147  0.3922   27.2107  -6.4633   -7.1513   \n",
       "4   75.1362   30.9205  3.1611  0.3168  0.1832   -5.5277  28.5525   21.8393   \n",
       "\n",
       "    fAlpha     fDist  class  \n",
       "0  40.0920   81.8828      1  \n",
       "1   6.3609  205.2610      1  \n",
       "2  76.9600  256.7880      1  \n",
       "3  10.4490  116.7370      1  \n",
       "4   4.6480  356.4620      1  "
      ]
     },
     "execution_count": 4,
     "metadata": {},
     "output_type": "execute_result"
    }
   ],
   "source": [
    "df[\"class\"] = (df[\"class\"] == \"g\").astype(int)\n",
    "df.head()\n"
   ]
  },
  {
   "cell_type": "code",
   "execution_count": 5,
   "id": "263fa3a9-3ff3-4470-ac5b-e9190a8be279",
   "metadata": {},
   "outputs": [],
   "source": [
    "# for label in cols[:-1]:\n",
    "#     plt.hist(df[df[\"class\"]==1][label],color = 'blue', label = 'gamma', alpha = 0.7, density = True)\n",
    "#     plt.hist(df[df[\"class\"]==0][label],color = 'red', label = 'hydron', alpha = 0.7, density = True)\n",
    "#     plt.title(label)\n",
    "#     plt.ylabel(\"Probability\")\n",
    "#     plt.xlabel(label)\n",
    "#     plt.legend()\n",
    "#     plt.show()"
   ]
  },
  {
   "cell_type": "markdown",
   "id": "660153c3-1a13-4876-ac88-cd8fe475d2df",
   "metadata": {},
   "source": [
    "\n",
    "<span style=\"background-color: brown; font-size: 30px;\">Train,Validation, Test datasets</span>\n"
   ]
  },
  {
   "cell_type": "code",
   "execution_count": 6,
   "id": "2f37f0e3-e65e-4601-bc68-9e1cfa17e4cb",
   "metadata": {},
   "outputs": [
    {
     "name": "stderr",
     "output_type": "stream",
     "text": [
      "C:\\Users\\ShadowLord\\AppData\\Roaming\\Python\\Python312\\site-packages\\numpy\\_core\\fromnumeric.py:57: FutureWarning: 'DataFrame.swapaxes' is deprecated and will be removed in a future version. Please use 'DataFrame.transpose' instead.\n",
      "  return bound(*args, **kwds)\n"
     ]
    }
   ],
   "source": [
    "train, valid, test = np.split(df.sample(frac=1), [int(0.6 * len(df)), int(0.8 * len(df))])"
   ]
  },
  {
   "cell_type": "markdown",
   "id": "a5c89237-fa0a-4722-a1f0-0e82ce938759",
   "metadata": {},
   "source": [
    "<span style=\"background-color:brown; font-size:15px;\">np.split(array, [index1, index2]) → splits into [0:index1], [index1:index2], [index2:end]</span>"
   ]
  },
  {
   "cell_type": "code",
   "execution_count": 7,
   "id": "acdbb9c1-5c47-467c-b1d3-611533f63d26",
   "metadata": {},
   "outputs": [],
   "source": [
    "def scale_dataset(dataframe,oversample=False):\n",
    "    X = dataframe[dataframe.columns[:-1]].values #[[1,2,3],[2,3,4],[3,4,5],[4,5,6]] shape[4,3]-{n_samples, n_features}\n",
    "    Y = dataframe[dataframe.columns[-1]].values #[1,2,3]\n",
    "\n",
    "    scaler = StandardScaler()\n",
    "    X = scaler.fit_transform(X)\n",
    "\n",
    "    if oversample:\n",
    "        ros = RandomOverSampler()\n",
    "        X, Y = ros.fit_resample(X, Y)\n",
    "\n",
    "    data  = np.hstack((X, np.reshape(Y, (-1,1))))\n",
    "\n",
    "    return data, X, Y"
   ]
  },
  {
   "cell_type": "code",
   "execution_count": 8,
   "id": "ee265637-d2d1-42c6-bacc-b821055801c2",
   "metadata": {},
   "outputs": [],
   "source": [
    "# print(len(train[train[\"class\"] == 1])) #7408\n",
    "# print(len(train[train[\"class\"] == 0])) #4004"
   ]
  },
  {
   "cell_type": "code",
   "execution_count": 9,
   "id": "af7bd5d8-041a-40b2-bc44-a03035733047",
   "metadata": {},
   "outputs": [],
   "source": [
    "train , X_train, Y_train = scale_dataset(train, oversample = True)\n",
    "valid , X_valid, Y_valid = scale_dataset(valid, oversample = False)\n",
    "test , X_test, Y_test = scale_dataset(test, oversample = False)"
   ]
  },
  {
   "cell_type": "markdown",
   "id": "b3227340-9439-4a82-bd9a-a5b5538b35de",
   "metadata": {},
   "source": [
    "<span style=\"background-color:brown; font-size: 20px\">kNN (k-nearest neighbors)</span>"
   ]
  },
  {
   "cell_type": "code",
   "execution_count": 10,
   "id": "41057535-5eae-4a0a-90f4-4d0724bf0255",
   "metadata": {},
   "outputs": [],
   "source": [
    "from sklearn.neighbors import KNeighborsClassifier\n",
    "from sklearn.metrics import classification_report"
   ]
  },
  {
   "cell_type": "code",
   "execution_count": 11,
   "id": "17ce787c-e464-4ce5-a685-e5ed3b1975d5",
   "metadata": {},
   "outputs": [],
   "source": [
    "knn_model = KNeighborsClassifier(n_neighbors = 5)\n",
    "knn_model = knn_model.fit(X_train,Y_train)"
   ]
  },
  {
   "cell_type": "code",
   "execution_count": 12,
   "id": "f681c837-a255-409e-a3b0-22b55f6b8267",
   "metadata": {},
   "outputs": [],
   "source": [
    "Y_pred = knn_model.predict(X_test)\n",
    "#Y_pred array([0, 0, 0, ..., 0, 0, 1])\n",
    "#Y_test array([1, 0, 0, ..., 0, 0, 1])"
   ]
  },
  {
   "cell_type": "code",
   "execution_count": 13,
   "id": "03c62de7-2481-400d-93ec-45d07631d9ec",
   "metadata": {},
   "outputs": [
    {
     "name": "stdout",
     "output_type": "stream",
     "text": [
      "              precision    recall  f1-score   support\n",
      "\n",
      "           0       0.73      0.73      0.73      1305\n",
      "           1       0.86      0.86      0.86      2499\n",
      "\n",
      "    accuracy                           0.82      3804\n",
      "   macro avg       0.80      0.80      0.80      3804\n",
      "weighted avg       0.82      0.82      0.82      3804\n",
      "\n"
     ]
    }
   ],
   "source": [
    "print(classification_report(Y_test,Y_pred))"
   ]
  },
  {
   "cell_type": "markdown",
   "id": "a4a957bc-7451-46dd-8556-4957cbd5fdea",
   "metadata": {},
   "source": [
    "<span style=\"background-color:brown; font-size:20px\">Naive Bayes</span>"
   ]
  },
  {
   "cell_type": "code",
   "execution_count": 14,
   "id": "8e5b3ab4-c445-44fc-a830-c1d821a6bc47",
   "metadata": {},
   "outputs": [],
   "source": [
    "from sklearn.naive_bayes import GaussianNB"
   ]
  },
  {
   "cell_type": "code",
   "execution_count": 15,
   "id": "e249efda-de04-4fc9-b965-aa48a4ca7ae9",
   "metadata": {},
   "outputs": [],
   "source": [
    "nb_model = GaussianNB()\n",
    "nb_model = nb_model.fit(X_train,Y_train)"
   ]
  },
  {
   "cell_type": "code",
   "execution_count": 16,
   "id": "99c7326d-68aa-42cc-828f-dce8c6530ab8",
   "metadata": {},
   "outputs": [
    {
     "name": "stdout",
     "output_type": "stream",
     "text": [
      "              precision    recall  f1-score   support\n",
      "\n",
      "           0       0.62      0.40      0.49      1305\n",
      "           1       0.74      0.87      0.80      2499\n",
      "\n",
      "    accuracy                           0.71      3804\n",
      "   macro avg       0.68      0.64      0.64      3804\n",
      "weighted avg       0.70      0.71      0.69      3804\n",
      "\n"
     ]
    }
   ],
   "source": [
    "Y_pred = nb_model.predict(X_test)\n",
    "print(classification_report(Y_test,Y_pred))"
   ]
  },
  {
   "cell_type": "markdown",
   "id": "2e9b8b2a-9328-42b4-b104-3f65b177b235",
   "metadata": {},
   "source": [
    "<span style=\"background-color:brown; font-size:20px\">Logistic Regression</span>"
   ]
  },
  {
   "cell_type": "markdown",
   "id": "defabc78-c650-40b8-aeb6-6a88f1c1802f",
   "metadata": {},
   "source": [
    "<span style=\"background-color:green; font-size:20px\">The sigmoid function $\\sigma(y) = \\frac{1}{1 + e^{-y}}$ is commonly used in machine learning.</span>\n"
   ]
  },
  {
   "cell_type": "code",
   "execution_count": 17,
   "id": "1a6862dd-6a99-4e73-8972-53bca39a1836",
   "metadata": {},
   "outputs": [],
   "source": [
    "from sklearn.linear_model import LogisticRegression"
   ]
  },
  {
   "cell_type": "code",
   "execution_count": 18,
   "id": "fa7ba7ae-33dc-42aa-946e-2391371654c3",
   "metadata": {},
   "outputs": [],
   "source": [
    "lg_model = LogisticRegression()\n",
    "lg_model = lg_model.fit(X_train,Y_train)"
   ]
  },
  {
   "cell_type": "code",
   "execution_count": 19,
   "id": "90f6db73-7195-416c-892d-a2d21f41903d",
   "metadata": {},
   "outputs": [
    {
     "name": "stdout",
     "output_type": "stream",
     "text": [
      "              precision    recall  f1-score   support\n",
      "\n",
      "           0       0.67      0.72      0.69      1305\n",
      "           1       0.85      0.81      0.83      2499\n",
      "\n",
      "    accuracy                           0.78      3804\n",
      "   macro avg       0.76      0.77      0.76      3804\n",
      "weighted avg       0.79      0.78      0.78      3804\n",
      "\n"
     ]
    }
   ],
   "source": [
    "Y_pred = lg_model.predict(X_test)\n",
    "print(classification_report(Y_test,Y_pred))"
   ]
  },
  {
   "cell_type": "markdown",
   "id": "882d72c8-ba78-4945-9d92-070840b0022b",
   "metadata": {},
   "source": [
    "<span style=\"background-color:brown; font-size:20px\">Support Vector Machines(SVM)</span>"
   ]
  },
  {
   "cell_type": "code",
   "execution_count": 20,
   "id": "d8ec4741-5ec2-4d60-8b57-af50b71954a2",
   "metadata": {},
   "outputs": [],
   "source": [
    "from sklearn.svm import SVC"
   ]
  },
  {
   "cell_type": "code",
   "execution_count": 21,
   "id": "4bd8c1a4-e7b8-43b5-97e2-d49b5dee73cb",
   "metadata": {},
   "outputs": [],
   "source": [
    "svm_model = SVC()\n",
    "svm_model  = svm_model.fit(X_train,Y_train)"
   ]
  },
  {
   "cell_type": "code",
   "execution_count": 22,
   "id": "477777e6-3816-452f-b2b9-428a890e9eab",
   "metadata": {},
   "outputs": [
    {
     "name": "stdout",
     "output_type": "stream",
     "text": [
      "              precision    recall  f1-score   support\n",
      "\n",
      "           0       0.79      0.80      0.80      1305\n",
      "           1       0.90      0.89      0.89      2499\n",
      "\n",
      "    accuracy                           0.86      3804\n",
      "   macro avg       0.85      0.85      0.85      3804\n",
      "weighted avg       0.86      0.86      0.86      3804\n",
      "\n"
     ]
    }
   ],
   "source": [
    "Y_pred = svm_model.predict(X_test)\n",
    "print(classification_report(Y_test,Y_pred))"
   ]
  },
  {
   "cell_type": "markdown",
   "id": "a0a439bc-8cd5-4969-9af1-2f8fe10d4929",
   "metadata": {},
   "source": [
    "<span style=\"background-color:brown; font-size:20px\">Neural Network</span>"
   ]
  },
  {
   "cell_type": "code",
   "execution_count": 31,
   "id": "4d9c9960-2cf3-4109-8ecb-9eeda06e665c",
   "metadata": {},
   "outputs": [],
   "source": [
    "import tensorflow as tf"
   ]
  },
  {
   "cell_type": "code",
   "execution_count": 32,
   "id": "120df0d4-e22d-4764-8ce8-1de8a8e95f93",
   "metadata": {},
   "outputs": [],
   "source": [
    "def plot_loss(history):\n",
    "    fig, (ax1,ax2) = plt.subplots(1,2)\n",
    "    ax1.plt.plot(history.history['loss'],label = 'loss')\n",
    "    ax1.plt.plot(history.history['val_loss'],label = 'val_loss')\n",
    "    ax1.plt.xlabel('Epoch')\n",
    "    ax1.plt.ylabel('Binary crossentropy')\n",
    "    ax1.plt.grid(True)\n",
    "\n",
    "    ax2.plt.plot(history.history['accuracy'],label = 'accuracy')\n",
    "    ax2.plt.plot(history.history['val_accuracy'],label = 'val_accuracy')\n",
    "    ax2.plt.xlabel('Epoch')\n",
    "    ax2.plt.ylabel('Accuracy')\n",
    "    \n",
    "    plt.show()\n",
    "               \n",
    "def plot_accuracy(history):\n",
    "    plt.plot(history.history['accuracy'],label = 'accuracy')\n",
    "    plt.plot(history.history['val_accuracy'],label = 'val_accuracy')\n",
    "    plt.xlabel('Epoch')\n",
    "    plt.ylabel('Accuracy')\n",
    "    plt.legend()\n",
    "    plt.grid(True)\n",
    "    plt.show()"
   ]
  },
  {
   "cell_type": "code",
   "execution_count": 36,
   "id": "8546bbc2-aacf-497b-b3a2-97764b8ded8f",
   "metadata": {},
   "outputs": [],
   "source": [
    "def train_model(X_trian, Y_train, num_nodes, dropout_prob, lr, batch_size,epochs):\n",
    "\n",
    "    nn_model = tf.keras.Sequential([\n",
    "        tf.keras.layers.Dense(num_nodes, activation='relu', input_shape=(10,)),\n",
    "        tf.keras.layers.Dropout(dropout_prob),\n",
    "        tf.keras.layers.Dense(num_nodes, activation='relu'),\n",
    "        tf.keras.layers.Dropout(dropout_prob),\n",
    "        tf.keras.layers.Dense(1, activation = 'sigmoid')\n",
    "    ]\n",
    "    )\n",
    "    \n",
    "    nn_model.compile(optimizer = tf.keras.optimizers.Adam(lr), loss='binary_crossentropy',\n",
    "                    metrics=['accuracy'])\n",
    "    \n",
    "    history = nn_model.fit(\n",
    "    X_train,Y_train,\n",
    "    epochs = epochs, batch_size = batch_size , validation_split=0.2 , verbose = 0\n",
    "    ) \n",
    "\n",
    "    return nn_model , history"
   ]
  },
  {
   "cell_type": "code",
   "execution_count": 34,
   "id": "49a98087-4926-4832-8cf1-fbb1db8b24e2",
   "metadata": {},
   "outputs": [],
   "source": [
    "# history = nn_model.fit(\n",
    "#     X_train,Y_train,\n",
    "#     epochs = 100, batch_size = 32 , validation_split=0.2 , verbose = 0\n",
    "# )                   "
   ]
  },
  {
   "cell_type": "code",
   "execution_count": 35,
   "id": "4e25ec0d-349c-4c7f-b334-5b2b19a1c180",
   "metadata": {},
   "outputs": [
    {
     "data": {
      "image/png": "[encoded data removed]",
      "text/plain": [
       "<Figure size 640x480 with 1 Axes>"
      ]
     },
     "metadata": {},
     "output_type": "display_data"
    },
    {
     "data": {
      "image/png": "[encoded data removed]",
      "text/plain": [
       "<Figure size 640x480 with 1 Axes>"
      ]
     },
     "metadata": {},
     "output_type": "display_data"
    }
   ],
   "source": [
    "# plot_loss(history)\n",
    "# plot_accuracy(history)"
   ]
  },
  {
   "cell_type": "code",
   "execution_count": null,
   "id": "23ec9b3c-41db-419c-8e32-7e6c2ac54082",
   "metadata": {},
   "outputs": [],
   "source": [
    "epochs = 100\n",
    "for num_nodes in [16, 32, 64]:\n",
    "    for dropout_prob in [0, 0.2]:\n",
    "        for lr in [0.1, 0.005, 0.001]:\n",
    "            for batch_size in [32, 64, 128]:\n",
    "                model , histroy = train_model(X_train, Y_train, num_nodes, dropout_prob, lr, batch_size, epochs)\n",
    "                plot_loss(history)\n",
    "                plot_accuracy(history)"
   ]
  }
 ],
 "metadata": {
  "kernelspec": {
   "display_name": "Python 3 (ipykernel)",
   "language": "python",
   "name": "python3"
  },
  "language_info": {
   "codemirror_mode": {
    "name": "ipython",
    "version": 3
   },
   "file_extension": ".py",
   "mimetype": "text/x-python",
   "name": "python",
   "nbconvert_exporter": "python",
   "pygments_lexer": "ipython3",
   "version": "3.12.4"
  }
 },
 "nbformat": 4,
 "nbformat_minor": 5
}
